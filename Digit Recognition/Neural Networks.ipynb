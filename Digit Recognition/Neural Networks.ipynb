{
 "cells": [
  {
   "cell_type": "markdown",
   "id": "79b2a81c",
   "metadata": {},
   "source": [
    "## Handwritten Digit Recognition ##"
   ]
  },
  {
   "cell_type": "code",
   "execution_count": 348,
   "id": "a4591682",
   "metadata": {},
   "outputs": [],
   "source": [
    "import numpy as np\n",
    "import pandas as pd"
   ]
  },
  {
   "cell_type": "markdown",
   "id": "87c30865",
   "metadata": {},
   "source": [
    "### Data ###"
   ]
  },
  {
   "cell_type": "code",
   "execution_count": 349,
   "id": "8a11ee34",
   "metadata": {},
   "outputs": [
    {
     "data": {
      "text/html": [
       "<div>\n",
       "<style scoped>\n",
       "    .dataframe tbody tr th:only-of-type {\n",
       "        vertical-align: middle;\n",
       "    }\n",
       "\n",
       "    .dataframe tbody tr th {\n",
       "        vertical-align: top;\n",
       "    }\n",
       "\n",
       "    .dataframe thead th {\n",
       "        text-align: right;\n",
       "    }\n",
       "</style>\n",
       "<table border=\"1\" class=\"dataframe\">\n",
       "  <thead>\n",
       "    <tr style=\"text-align: right;\">\n",
       "      <th></th>\n",
       "      <th>label</th>\n",
       "      <th>pixel0</th>\n",
       "      <th>pixel1</th>\n",
       "      <th>pixel2</th>\n",
       "      <th>pixel3</th>\n",
       "      <th>pixel4</th>\n",
       "      <th>pixel5</th>\n",
       "      <th>pixel6</th>\n",
       "      <th>pixel7</th>\n",
       "      <th>pixel8</th>\n",
       "      <th>...</th>\n",
       "      <th>pixel774</th>\n",
       "      <th>pixel775</th>\n",
       "      <th>pixel776</th>\n",
       "      <th>pixel777</th>\n",
       "      <th>pixel778</th>\n",
       "      <th>pixel779</th>\n",
       "      <th>pixel780</th>\n",
       "      <th>pixel781</th>\n",
       "      <th>pixel782</th>\n",
       "      <th>pixel783</th>\n",
       "    </tr>\n",
       "  </thead>\n",
       "  <tbody>\n",
       "    <tr>\n",
       "      <th>0</th>\n",
       "      <td>1</td>\n",
       "      <td>0</td>\n",
       "      <td>0</td>\n",
       "      <td>0</td>\n",
       "      <td>0</td>\n",
       "      <td>0</td>\n",
       "      <td>0</td>\n",
       "      <td>0</td>\n",
       "      <td>0</td>\n",
       "      <td>0</td>\n",
       "      <td>...</td>\n",
       "      <td>0</td>\n",
       "      <td>0</td>\n",
       "      <td>0</td>\n",
       "      <td>0</td>\n",
       "      <td>0</td>\n",
       "      <td>0</td>\n",
       "      <td>0</td>\n",
       "      <td>0</td>\n",
       "      <td>0</td>\n",
       "      <td>0</td>\n",
       "    </tr>\n",
       "    <tr>\n",
       "      <th>1</th>\n",
       "      <td>0</td>\n",
       "      <td>0</td>\n",
       "      <td>0</td>\n",
       "      <td>0</td>\n",
       "      <td>0</td>\n",
       "      <td>0</td>\n",
       "      <td>0</td>\n",
       "      <td>0</td>\n",
       "      <td>0</td>\n",
       "      <td>0</td>\n",
       "      <td>...</td>\n",
       "      <td>0</td>\n",
       "      <td>0</td>\n",
       "      <td>0</td>\n",
       "      <td>0</td>\n",
       "      <td>0</td>\n",
       "      <td>0</td>\n",
       "      <td>0</td>\n",
       "      <td>0</td>\n",
       "      <td>0</td>\n",
       "      <td>0</td>\n",
       "    </tr>\n",
       "    <tr>\n",
       "      <th>2</th>\n",
       "      <td>1</td>\n",
       "      <td>0</td>\n",
       "      <td>0</td>\n",
       "      <td>0</td>\n",
       "      <td>0</td>\n",
       "      <td>0</td>\n",
       "      <td>0</td>\n",
       "      <td>0</td>\n",
       "      <td>0</td>\n",
       "      <td>0</td>\n",
       "      <td>...</td>\n",
       "      <td>0</td>\n",
       "      <td>0</td>\n",
       "      <td>0</td>\n",
       "      <td>0</td>\n",
       "      <td>0</td>\n",
       "      <td>0</td>\n",
       "      <td>0</td>\n",
       "      <td>0</td>\n",
       "      <td>0</td>\n",
       "      <td>0</td>\n",
       "    </tr>\n",
       "    <tr>\n",
       "      <th>3</th>\n",
       "      <td>4</td>\n",
       "      <td>0</td>\n",
       "      <td>0</td>\n",
       "      <td>0</td>\n",
       "      <td>0</td>\n",
       "      <td>0</td>\n",
       "      <td>0</td>\n",
       "      <td>0</td>\n",
       "      <td>0</td>\n",
       "      <td>0</td>\n",
       "      <td>...</td>\n",
       "      <td>0</td>\n",
       "      <td>0</td>\n",
       "      <td>0</td>\n",
       "      <td>0</td>\n",
       "      <td>0</td>\n",
       "      <td>0</td>\n",
       "      <td>0</td>\n",
       "      <td>0</td>\n",
       "      <td>0</td>\n",
       "      <td>0</td>\n",
       "    </tr>\n",
       "    <tr>\n",
       "      <th>4</th>\n",
       "      <td>0</td>\n",
       "      <td>0</td>\n",
       "      <td>0</td>\n",
       "      <td>0</td>\n",
       "      <td>0</td>\n",
       "      <td>0</td>\n",
       "      <td>0</td>\n",
       "      <td>0</td>\n",
       "      <td>0</td>\n",
       "      <td>0</td>\n",
       "      <td>...</td>\n",
       "      <td>0</td>\n",
       "      <td>0</td>\n",
       "      <td>0</td>\n",
       "      <td>0</td>\n",
       "      <td>0</td>\n",
       "      <td>0</td>\n",
       "      <td>0</td>\n",
       "      <td>0</td>\n",
       "      <td>0</td>\n",
       "      <td>0</td>\n",
       "    </tr>\n",
       "  </tbody>\n",
       "</table>\n",
       "<p>5 rows × 785 columns</p>\n",
       "</div>"
      ],
      "text/plain": [
       "   label  pixel0  pixel1  pixel2  pixel3  pixel4  pixel5  pixel6  pixel7  \\\n",
       "0      1       0       0       0       0       0       0       0       0   \n",
       "1      0       0       0       0       0       0       0       0       0   \n",
       "2      1       0       0       0       0       0       0       0       0   \n",
       "3      4       0       0       0       0       0       0       0       0   \n",
       "4      0       0       0       0       0       0       0       0       0   \n",
       "\n",
       "   pixel8  ...  pixel774  pixel775  pixel776  pixel777  pixel778  pixel779  \\\n",
       "0       0  ...         0         0         0         0         0         0   \n",
       "1       0  ...         0         0         0         0         0         0   \n",
       "2       0  ...         0         0         0         0         0         0   \n",
       "3       0  ...         0         0         0         0         0         0   \n",
       "4       0  ...         0         0         0         0         0         0   \n",
       "\n",
       "   pixel780  pixel781  pixel782  pixel783  \n",
       "0         0         0         0         0  \n",
       "1         0         0         0         0  \n",
       "2         0         0         0         0  \n",
       "3         0         0         0         0  \n",
       "4         0         0         0         0  \n",
       "\n",
       "[5 rows x 785 columns]"
      ]
     },
     "execution_count": 349,
     "metadata": {},
     "output_type": "execute_result"
    }
   ],
   "source": [
    "df = pd.read_csv('train.csv') # Data is \"MNIST Digit Recognizer\" by ANIMATRONBOT from Kaggle\n",
    "df.head()"
   ]
  },
  {
   "cell_type": "code",
   "execution_count": 350,
   "id": "f20906e7",
   "metadata": {},
   "outputs": [],
   "source": [
    "df = np.array(df)\n",
    "m, n = df.shape\n",
    "np.random.shuffle(df)\n",
    "\n",
    "test_cv_split = 0.1\n",
    "test, cv = (m*test_cv_split, 2*m*test_cv_split)\n",
    "\n",
    "df_test = df[:int(test)].T\n",
    "y_test = df_test[0]\n",
    "X_test = df_test[1:] / 255.\n",
    "\n",
    "df_cv = df[int(test):int(cv)].T\n",
    "y_cv = df_cv[0]\n",
    "X_cv = df_cv[1:] / 255.\n",
    "\n",
    "df_train = df[int(cv):].T\n",
    "y_train = df_train[0]\n",
    "X_train = df_train[1:] / 255."
   ]
  },
  {
   "cell_type": "markdown",
   "id": "e39cd052",
   "metadata": {},
   "source": [
    "### Activation Functions ###"
   ]
  },
  {
   "cell_type": "code",
   "execution_count": 351,
   "id": "8db2ddfd",
   "metadata": {},
   "outputs": [],
   "source": [
    "def softmax(Z):\n",
    "    A = np.exp(Z) / sum(np.exp(Z))\n",
    "    return A\n",
    "\n",
    "def ReLU(Z):\n",
    "    return np.maximum(0, Z)\n",
    "\n",
    "def ReLU_derivative(Z):\n",
    "    return Z > 0"
   ]
  },
  {
   "cell_type": "markdown",
   "id": "eac60f80",
   "metadata": {},
   "source": [
    "### Generate Parameters W, b ###"
   ]
  },
  {
   "cell_type": "code",
   "execution_count": 352,
   "id": "e39bea50",
   "metadata": {},
   "outputs": [],
   "source": [
    "def generate(a, b, threshold=0.5):\n",
    "    arr = np.random.randn(a, b)\n",
    "    arr[arr > threshold] = threshold\n",
    "    arr[arr < -threshold] = -threshold\n",
    "    return arr"
   ]
  },
  {
   "cell_type": "code",
   "execution_count": 353,
   "id": "6381bff8",
   "metadata": {},
   "outputs": [],
   "source": [
    "def params(X):\n",
    "    W1 = generate(25, n-1) # First hidden layer has 25 neurons\n",
    "    b1 = generate(25, 1)\n",
    "    W2 = generate(15, 25) # Second hidden layer has 15 neurons\n",
    "    b2 = generate(15, 1)\n",
    "    W3 = generate(10, 15) # Output layer\n",
    "    b3 = generate(10, 1)\n",
    "    return W1, b1, W2, b2, W3, b3"
   ]
  },
  {
   "cell_type": "markdown",
   "id": "2db1a1aa",
   "metadata": {},
   "source": [
    "### One Hot ###"
   ]
  },
  {
   "cell_type": "code",
   "execution_count": 354,
   "id": "6a0f96ab",
   "metadata": {},
   "outputs": [],
   "source": [
    "def one_hot(y):\n",
    "    one_hot = np.zeros((y.size, y.max() + 1))\n",
    "    one_hot[np.arange(y.size), y] = 1\n",
    "    return one_hot.T"
   ]
  },
  {
   "cell_type": "markdown",
   "id": "2073b535",
   "metadata": {},
   "source": [
    "### Forward Backward Propagation ###"
   ]
  },
  {
   "cell_type": "code",
   "execution_count": 355,
   "id": "9a207633",
   "metadata": {},
   "outputs": [],
   "source": [
    "def forward(X, W1, b1, W2, b2, W3, b3, output=False):\n",
    "    Z1 = np.dot(W1, X) + b1\n",
    "    A1 = ReLU(Z1)\n",
    "    Z2 = np.dot(W2, A1) + b2\n",
    "    A2 = ReLU(Z2)\n",
    "    Z3 = np.dot(W3, A2) + b3\n",
    "    A3 = softmax(Z3)\n",
    "    if output:\n",
    "        return A3\n",
    "    else:\n",
    "        return Z1, A1, Z2, A2, Z3, A3"
   ]
  },
  {
   "cell_type": "code",
   "execution_count": 356,
   "id": "46681a62",
   "metadata": {},
   "outputs": [],
   "source": [
    "def backward(X, y, Z1, A1, Z2, A2, Z3, A3, W1, b1, W2, b2, W3, b3):\n",
    "    one_hot_y = one_hot(y)\n",
    "    m = X.shape[1]\n",
    "    \n",
    "    dZ3 = A3 - one_hot_y\n",
    "    dW3 = 1 / m * np.dot(dZ3, A2.T)\n",
    "    db3 = 1 / m * np.sum(dZ3)\n",
    "    \n",
    "    dA2 = np.dot(W3.T, dZ3)\n",
    "    dZ2 = dA2 * ReLU_derivative(Z2)\n",
    "    dW2 = 1 / m * np.dot(dZ2, A1.T)\n",
    "    db2 = 1 / m * np.sum(dZ2)\n",
    "    \n",
    "    dA1 = np.dot(W2.T, dZ2)\n",
    "    dZ1 = dA1 * ReLU_derivative(Z1)\n",
    "    dW1 = 1 / m * np.dot(dZ1, X.T)\n",
    "    db1 = 1 / m * np.sum(dZ1)\n",
    "    \n",
    "    return dW1, db1, dW2, db2, dW3, db3"
   ]
  },
  {
   "cell_type": "markdown",
   "id": "d745465f",
   "metadata": {},
   "source": [
    "### Gradient Descent ###"
   ]
  },
  {
   "cell_type": "code",
   "execution_count": 366,
   "id": "ecc4cc55",
   "metadata": {},
   "outputs": [],
   "source": [
    "def gradient_descent(X, y, alpha, iterations):\n",
    "    W1, b1, W2, b2, W3, b3 = params(X)\n",
    "    for i in range(iterations):\n",
    "        Z1, A1, Z2, A2, Z3, A3 = forward(X, W1, b1, W2, b2, W3, b3)\n",
    "        dW1, db1, dW2, db2, dW3, db3 = backward(X, y, Z1, A1, Z2, A2, Z3, A3, W1, b1, W2, b2, W3, b3)\n",
    "        W1, W2, W3 = (W1 - alpha * dW1, W2 - alpha * dW2, W3 - alpha * dW3)\n",
    "        b1, b2, b3 = (b1 - alpha * db1, b2 - alpha * db2, b3 - alpha * db3)\n",
    "        if i % (iterations/10) == 0:\n",
    "            predictions = np.argmax(A3, 0)\n",
    "            accuracy = np.sum(predictions == y) / y.size\n",
    "            print(\"Iteration: \", i)\n",
    "            print(f\"Accuracy: {accuracy}\")\n",
    "    print(\"Iteration: \", iterations)\n",
    "    print(f\"Accuracy: {accuracy}\")\n",
    "    return W1, b1, W2, b2, W3, b3"
   ]
  },
  {
   "cell_type": "code",
   "execution_count": 370,
   "id": "11072358",
   "metadata": {},
   "outputs": [
    {
     "name": "stdout",
     "output_type": "stream",
     "text": [
      "Iteration:  0\n",
      "Accuracy: 0.10357142857142858\n",
      "Iteration:  200\n",
      "Accuracy: 0.59125\n",
      "Iteration:  400\n",
      "Accuracy: 0.7619642857142858\n",
      "Iteration:  600\n",
      "Accuracy: 0.8148511904761905\n",
      "Iteration:  800\n",
      "Accuracy: 0.8433630952380953\n",
      "Iteration:  1000\n",
      "Accuracy: 0.8631547619047619\n",
      "Iteration:  1200\n",
      "Accuracy: 0.876547619047619\n",
      "Iteration:  1400\n",
      "Accuracy: 0.88625\n",
      "Iteration:  1600\n",
      "Accuracy: 0.894077380952381\n",
      "Iteration:  1800\n",
      "Accuracy: 0.9000297619047619\n",
      "Iteration:  2000\n",
      "Accuracy: 0.9000297619047619\n"
     ]
    }
   ],
   "source": [
    "iterations = 2000\n",
    "alpha = 0.1\n",
    "\n",
    "W1, b1, W2, b2, W3, b3 = gradient_descent(X_train, y_train, alpha, iterations)"
   ]
  },
  {
   "cell_type": "code",
   "execution_count": 371,
   "id": "2901deef",
   "metadata": {},
   "outputs": [],
   "source": [
    "def accuracy(X, y, W1, b1, W2, b2, W3, b3):\n",
    "    A3 = forward(X, W1, b1, W2, b2, W3, b3, output=True)\n",
    "    predictions = np.argmax(A3, 0)\n",
    "    accuracy = np.sum(predictions == y) / y.size\n",
    "    return accuracy"
   ]
  },
  {
   "cell_type": "code",
   "execution_count": 372,
   "id": "bf6d3883",
   "metadata": {},
   "outputs": [
    {
     "data": {
      "text/plain": [
       "0.8942857142857142"
      ]
     },
     "execution_count": 372,
     "metadata": {},
     "output_type": "execute_result"
    }
   ],
   "source": [
    "accuracy(X_test, y_test, W1, b1, W2, b2, W3, b3)"
   ]
  },
  {
   "cell_type": "code",
   "execution_count": 373,
   "id": "f1ada5f3",
   "metadata": {},
   "outputs": [
    {
     "data": {
      "text/plain": [
       "0.8964285714285715"
      ]
     },
     "execution_count": 373,
     "metadata": {},
     "output_type": "execute_result"
    }
   ],
   "source": [
    "accuracy(X_cv, y_cv, W1, b1, W2, b2, W3, b3)"
   ]
  }
 ],
 "metadata": {
  "kernelspec": {
   "display_name": "Python 3 (ipykernel)",
   "language": "python",
   "name": "python3"
  },
  "language_info": {
   "codemirror_mode": {
    "name": "ipython",
    "version": 3
   },
   "file_extension": ".py",
   "mimetype": "text/x-python",
   "name": "python",
   "nbconvert_exporter": "python",
   "pygments_lexer": "ipython3",
   "version": "3.9.12"
  }
 },
 "nbformat": 4,
 "nbformat_minor": 5
}
